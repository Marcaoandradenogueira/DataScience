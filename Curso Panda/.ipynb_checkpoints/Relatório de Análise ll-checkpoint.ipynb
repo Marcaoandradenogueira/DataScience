{
 "cells": [
  {
   "cell_type": "markdown",
   "metadata": {
    "colab_type": "text",
    "id": "3MDfNV86aG4T"
   },
   "source": [
    "#Relatório de Análise ll"
   ]
  },
  {
   "cell_type": "markdown",
   "metadata": {
    "colab_type": "text",
    "id": "bkoUSUFNaHOu"
   },
   "source": [
    "#Tipos de Imóveis"
   ]
  },
  {
   "cell_type": "code",
   "execution_count": 0,
   "metadata": {
    "colab": {},
    "colab_type": "code",
    "id": "u5g6zM94ZvPo"
   },
   "outputs": [],
   "source": [
    "import pandas as pd"
   ]
  },
  {
   "cell_type": "code",
   "execution_count": 0,
   "metadata": {
    "colab": {},
    "colab_type": "code",
    "id": "DGoXVeLaaSKx"
   },
   "outputs": [],
   "source": [
    "dados = pd.read_csv(\"aluguel.csv\", sep = \";\")"
   ]
  },
  {
   "cell_type": "code",
   "execution_count": 3,
   "metadata": {
    "colab": {
     "base_uri": "https://localhost:8080/",
     "height": 204
    },
    "colab_type": "code",
    "executionInfo": {
     "elapsed": 843,
     "status": "ok",
     "timestamp": 1563325002106,
     "user": {
      "displayName": "Marcão Andrade Nogueira",
      "photoUrl": "https://lh4.googleusercontent.com/-EKptSOrSVkk/AAAAAAAAAAI/AAAAAAAAHKA/cLh1Vt9GFpQ/s64/photo.jpg",
      "userId": "09431255759874322035"
     },
     "user_tz": 180
    },
    "id": "PichgwzvaXGw",
    "outputId": "80a9b956-5af9-4111-8d2d-3ecf9717b2e5"
   },
   "outputs": [
    {
     "data": {
      "text/html": [
       "<div>\n",
       "<style scoped>\n",
       "    .dataframe tbody tr th:only-of-type {\n",
       "        vertical-align: middle;\n",
       "    }\n",
       "\n",
       "    .dataframe tbody tr th {\n",
       "        vertical-align: top;\n",
       "    }\n",
       "\n",
       "    .dataframe thead th {\n",
       "        text-align: right;\n",
       "    }\n",
       "</style>\n",
       "<table border=\"1\" class=\"dataframe\">\n",
       "  <thead>\n",
       "    <tr style=\"text-align: right;\">\n",
       "      <th></th>\n",
       "      <th>Tipo</th>\n",
       "      <th>Bairro</th>\n",
       "      <th>Quartos</th>\n",
       "      <th>Vagas</th>\n",
       "      <th>Suites</th>\n",
       "      <th>Area</th>\n",
       "      <th>Valor</th>\n",
       "      <th>Condominio</th>\n",
       "      <th>IPTU</th>\n",
       "      <th>Valor m2</th>\n",
       "      <th>Tipo Agregado</th>\n",
       "    </tr>\n",
       "  </thead>\n",
       "  <tbody>\n",
       "    <tr>\n",
       "      <th>0</th>\n",
       "      <td>Apartamento</td>\n",
       "      <td>Centro</td>\n",
       "      <td>1</td>\n",
       "      <td>0</td>\n",
       "      <td>0</td>\n",
       "      <td>15</td>\n",
       "      <td>800.0</td>\n",
       "      <td>390.0</td>\n",
       "      <td>20.0</td>\n",
       "      <td>53.33</td>\n",
       "      <td>Apartamento</td>\n",
       "    </tr>\n",
       "    <tr>\n",
       "      <th>1</th>\n",
       "      <td>Apartamento</td>\n",
       "      <td>Higienópolis</td>\n",
       "      <td>1</td>\n",
       "      <td>0</td>\n",
       "      <td>0</td>\n",
       "      <td>48</td>\n",
       "      <td>800.0</td>\n",
       "      <td>230.0</td>\n",
       "      <td>0.0</td>\n",
       "      <td>16.67</td>\n",
       "      <td>Apartamento</td>\n",
       "    </tr>\n",
       "    <tr>\n",
       "      <th>2</th>\n",
       "      <td>Apartamento</td>\n",
       "      <td>Cachambi</td>\n",
       "      <td>2</td>\n",
       "      <td>0</td>\n",
       "      <td>0</td>\n",
       "      <td>50</td>\n",
       "      <td>1300.0</td>\n",
       "      <td>301.0</td>\n",
       "      <td>17.0</td>\n",
       "      <td>26.00</td>\n",
       "      <td>Apartamento</td>\n",
       "    </tr>\n",
       "    <tr>\n",
       "      <th>3</th>\n",
       "      <td>Apartamento</td>\n",
       "      <td>Grajaú</td>\n",
       "      <td>2</td>\n",
       "      <td>1</td>\n",
       "      <td>0</td>\n",
       "      <td>70</td>\n",
       "      <td>1500.0</td>\n",
       "      <td>642.0</td>\n",
       "      <td>74.0</td>\n",
       "      <td>21.43</td>\n",
       "      <td>Apartamento</td>\n",
       "    </tr>\n",
       "    <tr>\n",
       "      <th>4</th>\n",
       "      <td>Apartamento</td>\n",
       "      <td>Lins de Vasconcelos</td>\n",
       "      <td>3</td>\n",
       "      <td>1</td>\n",
       "      <td>1</td>\n",
       "      <td>90</td>\n",
       "      <td>1500.0</td>\n",
       "      <td>455.0</td>\n",
       "      <td>14.0</td>\n",
       "      <td>16.67</td>\n",
       "      <td>Apartamento</td>\n",
       "    </tr>\n",
       "  </tbody>\n",
       "</table>\n",
       "</div>"
      ],
      "text/plain": [
       "          Tipo               Bairro  Quartos  ...  IPTU  Valor m2  Tipo Agregado\n",
       "0  Apartamento               Centro        1  ...  20.0     53.33    Apartamento\n",
       "1  Apartamento         Higienópolis        1  ...   0.0     16.67    Apartamento\n",
       "2  Apartamento             Cachambi        2  ...  17.0     26.00    Apartamento\n",
       "3  Apartamento               Grajaú        2  ...  74.0     21.43    Apartamento\n",
       "4  Apartamento  Lins de Vasconcelos        3  ...  14.0     16.67    Apartamento\n",
       "\n",
       "[5 rows x 11 columns]"
      ]
     },
     "execution_count": 3,
     "metadata": {
      "tags": []
     },
     "output_type": "execute_result"
    }
   ],
   "source": [
    "dados.head()"
   ]
  },
  {
   "cell_type": "code",
   "execution_count": 4,
   "metadata": {
    "colab": {
     "base_uri": "https://localhost:8080/",
     "height": 1000
    },
    "colab_type": "code",
    "executionInfo": {
     "elapsed": 834,
     "status": "ok",
     "timestamp": 1563325002107,
     "user": {
      "displayName": "Marcão Andrade Nogueira",
      "photoUrl": "https://lh4.googleusercontent.com/-EKptSOrSVkk/AAAAAAAAAAI/AAAAAAAAHKA/cLh1Vt9GFpQ/s64/photo.jpg",
      "userId": "09431255759874322035"
     },
     "user_tz": 180
    },
    "id": "bhkwFv5CaYX4",
    "outputId": "c19b21a0-ddab-448f-c72b-34437bcb7249"
   },
   "outputs": [
    {
     "data": {
      "text/plain": [
       "0        Apartamento\n",
       "1        Apartamento\n",
       "2        Apartamento\n",
       "3        Apartamento\n",
       "4        Apartamento\n",
       "5        Apartamento\n",
       "6        Apartamento\n",
       "7        Apartamento\n",
       "8        Apartamento\n",
       "9        Apartamento\n",
       "10       Apartamento\n",
       "11       Apartamento\n",
       "12       Apartamento\n",
       "13       Apartamento\n",
       "14       Apartamento\n",
       "15       Apartamento\n",
       "16       Apartamento\n",
       "17       Apartamento\n",
       "18       Apartamento\n",
       "19       Apartamento\n",
       "20       Apartamento\n",
       "21       Apartamento\n",
       "22       Apartamento\n",
       "23       Apartamento\n",
       "24       Apartamento\n",
       "25       Apartamento\n",
       "26       Apartamento\n",
       "27       Apartamento\n",
       "28       Apartamento\n",
       "29       Apartamento\n",
       "            ...     \n",
       "19801      Quitinete\n",
       "19802      Quitinete\n",
       "19803      Quitinete\n",
       "19804      Quitinete\n",
       "19805      Quitinete\n",
       "19806      Quitinete\n",
       "19807      Quitinete\n",
       "19808      Quitinete\n",
       "19809      Quitinete\n",
       "19810      Quitinete\n",
       "19811      Quitinete\n",
       "19812      Quitinete\n",
       "19813      Quitinete\n",
       "19814      Quitinete\n",
       "19815      Quitinete\n",
       "19816      Quitinete\n",
       "19817      Quitinete\n",
       "19818      Quitinete\n",
       "19819      Quitinete\n",
       "19820      Quitinete\n",
       "19821      Quitinete\n",
       "19822      Quitinete\n",
       "19823      Quitinete\n",
       "19824      Quitinete\n",
       "19825      Quitinete\n",
       "19826      Quitinete\n",
       "19827      Quitinete\n",
       "19828      Quitinete\n",
       "19829      Quitinete\n",
       "19830      Quitinete\n",
       "Name: Tipo, Length: 19831, dtype: object"
      ]
     },
     "execution_count": 4,
     "metadata": {
      "tags": []
     },
     "output_type": "execute_result"
    }
   ],
   "source": [
    "dados[\"Tipo\"]"
   ]
  },
  {
   "cell_type": "code",
   "execution_count": 5,
   "metadata": {
    "colab": {
     "base_uri": "https://localhost:8080/",
     "height": 1000
    },
    "colab_type": "code",
    "executionInfo": {
     "elapsed": 828,
     "status": "ok",
     "timestamp": 1563325002108,
     "user": {
      "displayName": "Marcão Andrade Nogueira",
      "photoUrl": "https://lh4.googleusercontent.com/-EKptSOrSVkk/AAAAAAAAAAI/AAAAAAAAHKA/cLh1Vt9GFpQ/s64/photo.jpg",
      "userId": "09431255759874322035"
     },
     "user_tz": 180
    },
    "id": "ymNqZNRXabMv",
    "outputId": "f29451bb-b5c4-49b9-c31c-4028ede7c6d2"
   },
   "outputs": [
    {
     "data": {
      "text/plain": [
       "0        Apartamento\n",
       "1        Apartamento\n",
       "2        Apartamento\n",
       "3        Apartamento\n",
       "4        Apartamento\n",
       "5        Apartamento\n",
       "6        Apartamento\n",
       "7        Apartamento\n",
       "8        Apartamento\n",
       "9        Apartamento\n",
       "10       Apartamento\n",
       "11       Apartamento\n",
       "12       Apartamento\n",
       "13       Apartamento\n",
       "14       Apartamento\n",
       "15       Apartamento\n",
       "16       Apartamento\n",
       "17       Apartamento\n",
       "18       Apartamento\n",
       "19       Apartamento\n",
       "20       Apartamento\n",
       "21       Apartamento\n",
       "22       Apartamento\n",
       "23       Apartamento\n",
       "24       Apartamento\n",
       "25       Apartamento\n",
       "26       Apartamento\n",
       "27       Apartamento\n",
       "28       Apartamento\n",
       "29       Apartamento\n",
       "            ...     \n",
       "19801      Quitinete\n",
       "19802      Quitinete\n",
       "19803      Quitinete\n",
       "19804      Quitinete\n",
       "19805      Quitinete\n",
       "19806      Quitinete\n",
       "19807      Quitinete\n",
       "19808      Quitinete\n",
       "19809      Quitinete\n",
       "19810      Quitinete\n",
       "19811      Quitinete\n",
       "19812      Quitinete\n",
       "19813      Quitinete\n",
       "19814      Quitinete\n",
       "19815      Quitinete\n",
       "19816      Quitinete\n",
       "19817      Quitinete\n",
       "19818      Quitinete\n",
       "19819      Quitinete\n",
       "19820      Quitinete\n",
       "19821      Quitinete\n",
       "19822      Quitinete\n",
       "19823      Quitinete\n",
       "19824      Quitinete\n",
       "19825      Quitinete\n",
       "19826      Quitinete\n",
       "19827      Quitinete\n",
       "19828      Quitinete\n",
       "19829      Quitinete\n",
       "19830      Quitinete\n",
       "Name: Tipo, Length: 19831, dtype: object"
      ]
     },
     "execution_count": 5,
     "metadata": {
      "tags": []
     },
     "output_type": "execute_result"
    }
   ],
   "source": [
    "dados.Tipo"
   ]
  },
  {
   "cell_type": "code",
   "execution_count": 0,
   "metadata": {
    "colab": {},
    "colab_type": "code",
    "id": "g-M4lMu6aeCe"
   },
   "outputs": [],
   "source": [
    "tipo_de_imoveis = dados[\"Tipo\"]"
   ]
  },
  {
   "cell_type": "code",
   "execution_count": 7,
   "metadata": {
    "colab": {
     "base_uri": "https://localhost:8080/",
     "height": 34
    },
    "colab_type": "code",
    "executionInfo": {
     "elapsed": 813,
     "status": "ok",
     "timestamp": 1563325002111,
     "user": {
      "displayName": "Marcão Andrade Nogueira",
      "photoUrl": "https://lh4.googleusercontent.com/-EKptSOrSVkk/AAAAAAAAAAI/AAAAAAAAHKA/cLh1Vt9GFpQ/s64/photo.jpg",
      "userId": "09431255759874322035"
     },
     "user_tz": 180
    },
    "id": "Oa123drKaiQX",
    "outputId": "97870e29-d324-4ef1-b488-64b614103af2"
   },
   "outputs": [
    {
     "data": {
      "text/plain": [
       "pandas.core.series.Series"
      ]
     },
     "execution_count": 7,
     "metadata": {
      "tags": []
     },
     "output_type": "execute_result"
    }
   ],
   "source": [
    "type(tipo_de_imoveis)"
   ]
  },
  {
   "cell_type": "code",
   "execution_count": 8,
   "metadata": {
    "colab": {
     "base_uri": "https://localhost:8080/",
     "height": 119
    },
    "colab_type": "code",
    "executionInfo": {
     "elapsed": 806,
     "status": "ok",
     "timestamp": 1563325002112,
     "user": {
      "displayName": "Marcão Andrade Nogueira",
      "photoUrl": "https://lh4.googleusercontent.com/-EKptSOrSVkk/AAAAAAAAAAI/AAAAAAAAHKA/cLh1Vt9GFpQ/s64/photo.jpg",
      "userId": "09431255759874322035"
     },
     "user_tz": 180
    },
    "id": "8jLsXcx-aqEW",
    "outputId": "95e4a79e-17ab-479d-d2ff-9a83415b32bf"
   },
   "outputs": [
    {
     "data": {
      "text/plain": [
       "0               Apartamento\n",
       "16923                  Casa\n",
       "17821    Casa de Condomínio\n",
       "18785          Casa de Vila\n",
       "19018             Quitinete\n",
       "Name: Tipo, dtype: object"
      ]
     },
     "execution_count": 8,
     "metadata": {
      "tags": []
     },
     "output_type": "execute_result"
    }
   ],
   "source": [
    "tipo_de_imoveis.drop_duplicates()"
   ]
  },
  {
   "cell_type": "code",
   "execution_count": 9,
   "metadata": {
    "colab": {
     "base_uri": "https://localhost:8080/",
     "height": 1000
    },
    "colab_type": "code",
    "executionInfo": {
     "elapsed": 799,
     "status": "ok",
     "timestamp": 1563325002113,
     "user": {
      "displayName": "Marcão Andrade Nogueira",
      "photoUrl": "https://lh4.googleusercontent.com/-EKptSOrSVkk/AAAAAAAAAAI/AAAAAAAAHKA/cLh1Vt9GFpQ/s64/photo.jpg",
      "userId": "09431255759874322035"
     },
     "user_tz": 180
    },
    "id": "tscjhhiXbbg7",
    "outputId": "2bc14367-d8f6-4952-c2ef-3bff3129c687"
   },
   "outputs": [
    {
     "data": {
      "text/plain": [
       "0        Apartamento\n",
       "1        Apartamento\n",
       "2        Apartamento\n",
       "3        Apartamento\n",
       "4        Apartamento\n",
       "5        Apartamento\n",
       "6        Apartamento\n",
       "7        Apartamento\n",
       "8        Apartamento\n",
       "9        Apartamento\n",
       "10       Apartamento\n",
       "11       Apartamento\n",
       "12       Apartamento\n",
       "13       Apartamento\n",
       "14       Apartamento\n",
       "15       Apartamento\n",
       "16       Apartamento\n",
       "17       Apartamento\n",
       "18       Apartamento\n",
       "19       Apartamento\n",
       "20       Apartamento\n",
       "21       Apartamento\n",
       "22       Apartamento\n",
       "23       Apartamento\n",
       "24       Apartamento\n",
       "25       Apartamento\n",
       "26       Apartamento\n",
       "27       Apartamento\n",
       "28       Apartamento\n",
       "29       Apartamento\n",
       "            ...     \n",
       "19801      Quitinete\n",
       "19802      Quitinete\n",
       "19803      Quitinete\n",
       "19804      Quitinete\n",
       "19805      Quitinete\n",
       "19806      Quitinete\n",
       "19807      Quitinete\n",
       "19808      Quitinete\n",
       "19809      Quitinete\n",
       "19810      Quitinete\n",
       "19811      Quitinete\n",
       "19812      Quitinete\n",
       "19813      Quitinete\n",
       "19814      Quitinete\n",
       "19815      Quitinete\n",
       "19816      Quitinete\n",
       "19817      Quitinete\n",
       "19818      Quitinete\n",
       "19819      Quitinete\n",
       "19820      Quitinete\n",
       "19821      Quitinete\n",
       "19822      Quitinete\n",
       "19823      Quitinete\n",
       "19824      Quitinete\n",
       "19825      Quitinete\n",
       "19826      Quitinete\n",
       "19827      Quitinete\n",
       "19828      Quitinete\n",
       "19829      Quitinete\n",
       "19830      Quitinete\n",
       "Name: Tipo, Length: 19831, dtype: object"
      ]
     },
     "execution_count": 9,
     "metadata": {
      "tags": []
     },
     "output_type": "execute_result"
    }
   ],
   "source": [
    "tipo_de_imoveis"
   ]
  },
  {
   "cell_type": "code",
   "execution_count": 0,
   "metadata": {
    "colab": {},
    "colab_type": "code",
    "id": "GAKq6ko4a1U-"
   },
   "outputs": [],
   "source": [
    "tipo_de_imoveis.drop_duplicates(inplace=True)"
   ]
  },
  {
   "cell_type": "code",
   "execution_count": 11,
   "metadata": {
    "colab": {
     "base_uri": "https://localhost:8080/",
     "height": 119
    },
    "colab_type": "code",
    "executionInfo": {
     "elapsed": 788,
     "status": "ok",
     "timestamp": 1563325002116,
     "user": {
      "displayName": "Marcão Andrade Nogueira",
      "photoUrl": "https://lh4.googleusercontent.com/-EKptSOrSVkk/AAAAAAAAAAI/AAAAAAAAHKA/cLh1Vt9GFpQ/s64/photo.jpg",
      "userId": "09431255759874322035"
     },
     "user_tz": 180
    },
    "id": "LMGaycu7bLhx",
    "outputId": "0dbe4c36-0837-458c-ce9b-f614893bd4b2"
   },
   "outputs": [
    {
     "data": {
      "text/plain": [
       "0               Apartamento\n",
       "16923                  Casa\n",
       "17821    Casa de Condomínio\n",
       "18785          Casa de Vila\n",
       "19018             Quitinete\n",
       "Name: Tipo, dtype: object"
      ]
     },
     "execution_count": 11,
     "metadata": {
      "tags": []
     },
     "output_type": "execute_result"
    }
   ],
   "source": [
    "tipo_de_imoveis"
   ]
  },
  {
   "cell_type": "code",
   "execution_count": 0,
   "metadata": {
    "colab": {},
    "colab_type": "code",
    "id": "Zgp6RKbvbDFu"
   },
   "outputs": [],
   "source": [
    ""
   ]
  }
 ],
 "metadata": {
  "colab": {
   "name": "Relatório de Análise ll.ipynb",
   "provenance": [],
   "version": "0.3.2"
  },
  "kernelspec": {
   "display_name": "Python 3",
   "name": "python3"
  }
 },
 "nbformat": 4,
 "nbformat_minor": 0
}
